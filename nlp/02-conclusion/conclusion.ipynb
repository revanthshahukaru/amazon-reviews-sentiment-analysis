{
 "cells": [
  {
   "cell_type": "markdown",
   "id": "a61e17f6",
   "metadata": {},
   "source": [
    "# Conclusion"
   ]
  },
  {
   "cell_type": "markdown",
   "id": "58c521b2",
   "metadata": {},
   "source": [
    "### The `01-machine_learning/2024-04-20_ml-final.ipynb` file is the final model that is used in the deployment"
   ]
  },
  {
   "cell_type": "markdown",
   "id": "9f020b25",
   "metadata": {},
   "source": [
    "----------------------------------------------------------------------------------------------------\n"
   ]
  },
  {
   "cell_type": "markdown",
   "id": "7c4979eb",
   "metadata": {},
   "source": [
    "### Best Transformation technique: `Bag of Words`  "
   ]
  },
  {
   "cell_type": "markdown",
   "id": "c7c13e04",
   "metadata": {},
   "source": [
    "### Best preprocessing (tokenization): `Stemming`"
   ]
  },
  {
   "cell_type": "markdown",
   "id": "05b57432",
   "metadata": {},
   "source": [
    "### Best Algorithm (_in terms of accuracy_): `Random Forrest` "
   ]
  },
  {
   "cell_type": "markdown",
   "id": "45694ec0",
   "metadata": {},
   "source": [
    "----------------------------------------------------------------------------------------------------\n"
   ]
  },
  {
   "cell_type": "markdown",
   "id": "41a324b8",
   "metadata": {},
   "source": [
    "### Best Algorithm (_in terms of speed and accuracy_): `Logistic Regression`  \n",
    "\n",
    "----------------------------------------------------------------------------------------------------\n",
    "  \n",
    "### The pickle file size of the Logistic Regression Model is `1.7 MB` whereas the pickle file size of the Random Forrest Model is `1.78 GB`\n",
    "\n",
    "So, if the client wants a lighter and faster algorithm, **`Logistic regression`** is the clear choice here."
   ]
  }
 ],
 "metadata": {
  "kernelspec": {
   "display_name": "Python 3 (ipykernel)",
   "language": "python",
   "name": "python3"
  },
  "language_info": {
   "codemirror_mode": {
    "name": "ipython",
    "version": 3
   },
   "file_extension": ".py",
   "mimetype": "text/x-python",
   "name": "python",
   "nbconvert_exporter": "python",
   "pygments_lexer": "ipython3",
   "version": "3.11.5"
  }
 },
 "nbformat": 4,
 "nbformat_minor": 5
}
